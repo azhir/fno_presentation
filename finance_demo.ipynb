{
 "cells": [
  {
   "attachments": {},
   "cell_type": "markdown",
   "metadata": {},
   "source": [
    "# Using FNO Architectures to solve Inverse Problems\n",
    "\n",
    "### Intro to Inverse Problems\n",
    "***What is an inverse problem?***\\\n",
    "An inverse problem is a problem in which one seeks to determine the causes or inputs that gave rise to observed or measured outputs. In other words, given some observed or measured data, the inverse problem involves determining the unknown inputs or causes that produced the observed outputs.\n",
    "\n",
    "\n",
    "***What is an ill-posed problem?*** \\\n",
    "In mathematics and science, an ill-posed problem is a problem that does not satisfy one or more of the three conditions of well-posedness: \n",
    "* existence - a solution must exist\n",
    "* uniqueness - every solution must be unique\n",
    "* stability of the solution - a small error in the input data or parameters should not lead to a large error in the solution.\n",
    "\n",
    "***What is an ill-posed inverse problem?***\\\n",
    "An ill-posed inverse problem is a type of inverse problem that is also ill-posed. In other words, the problem of inferring the unknown inputs or causes that gave rise to observed or measured outputs does not satisfy one or more of the conditions of well-posedness, such as existence, uniqueness, and stability of the solution\n",
    "\n",
    "\n",
    "\n",
    "### What are some examples in finance?\n",
    "\n",
    "Inverse problems have many applications in finance, where the goal is often to infer the unknown causes or inputs that give rise to observed market data. Here are some examples of inverse problems in finance:\n",
    "\n",
    "* Option pricing: Inverse problems can be used to determine the unknown parameters of a financial model, such as the volatility of the underlying asset, from the prices of traded options. This involves inverting the Black-Scholes equation, which relates the price of an option to the underlying asset price, volatility, interest rate, and time to expiration.\n",
    "\n",
    "* Portfolio optimization: Inverse problems can be used to determine the optimal allocation of assets in a portfolio from observed market data, such as historical prices and returns. This involves inverting a mathematical model that relates the expected return and risk of a portfolio to its asset allocation.\n",
    "\n",
    "* Credit risk modeling: Inverse problems can be used to determine the unknown default probabilities of borrowers from observed market data, such as credit spreads and credit ratings. This involves inverting a model that relates the default probability of a borrower to its credit rating, maturity, and other factors.\n",
    "\n",
    "Solving these inverse problems in finance often involves using advanced mathematical techniques, such as optimization, statistical inference, and machine learning. The solutions can provide valuable insights into market dynamics, risk management, and investment strategies\n"
   ]
  },
  {
   "attachments": {},
   "cell_type": "markdown",
   "metadata": {},
   "source": [
    "# Portfolio Optimisation\n",
    "\n",
    "Given a set of observed market data, such as historical prices and returns, and a mathematical model that relates the expected return and risk of a portfolio to its asset allocation, the goal is to determine the optimal allocation of assets in the portfolio that gave rise to the observed data.\n",
    "\n",
    "Formally, let $R$ be an $n$-dimensional vector of expected returns of $n$ assets, and let $\\Sigma$ be an $n \\times n$ covariance matrix of asset returns. Let $w$ be an $n$-dimensional vector of asset weights, where $w_i$ represents the weight of the $i$-th asset in the portfolio. The expected return and risk of the portfolio can be defined as:\n",
    "\n",
    "\\begin{align*}\n",
    "\\mu &= w^T R \\\n",
    "\\sigma^2 &= w^T \\Sigma w \\\n",
    "\\end{align*}\n",
    "\n",
    "The goal of portfolio optimization is to find the optimal vector of asset weights $w^*$ that maximizes the expected return of the portfolio subject to a constraint on its risk, such as a maximum variance or a maximum drawdown:\n",
    "\n",
    "\\begin{align*}\n",
    "\\text{maximize} \\quad & \\mu(w) = w^T R \\\n",
    "\\text{subject to} \\quad & \\sigma^2(w) \\leq \\sigma^2_{\\max} \\\n",
    "\\end{align*}\n",
    "\n",
    "where $\\sigma^2_{\\max}$ is the maximum allowed risk of the portfolio.\n",
    "\n",
    "The inverse problem in portfolio optimization is to determine the vector of asset weights $w^*$ that gave rise to the observed market data, such as historical returns, by inverting the mathematical model that relates the expected return and risk of the portfolio to its asset allocation. This involves solving the above optimization problem for $w^*$, given the observed market data and the maximum allowed risk of the portfolio.\n"
   ]
  },
  {
   "cell_type": "code",
   "execution_count": null,
   "metadata": {},
   "outputs": [
    {
     "ename": "",
     "evalue": "",
     "output_type": "error",
     "traceback": [
      "\u001b[1;31mFailed to start the Kernel. \n",
      "\u001b[1;31mFailed to start the Kernel 'Python 3.9.6'. \n",
      "\u001b[1;31mView Jupyter <a href='command:jupyter.viewOutput'>log</a> for further details. Activating /usr/bin/python3 to run Jupyter failed with function toString() { [native code] }"
     ]
    }
   ],
   "source": [
    "# initial set-up\n",
    "import numpy as np\n",
    "import torch\n",
    "import torch.nn as nn\n",
    "import torch.nn.functional as F\n",
    "from torch.nn.parameter import Parameter\n",
    "import matplotlib.pyplot as plt\n",
    "from sklearn.model_selection import train_test_split\n",
    "from torch.utils.data import Dataset, DataLoader, TensorDataset\n",
    "import operator\n",
    "from functools import reduce\n",
    "from functools import partial\n",
    "from timeit import default_timer\n",
    "from utilities3 import *\n",
    "\n",
    "from Adam import Adam\n",
    "from sewar.full_ref import rmse, uqi\n",
    "from skimage.metrics import structural_similarity as ssim\n",
    "from skimage.metrics import peak_signal_noise_ratio as psnr\n",
    "from tabulate import tabulate\n",
    "\n",
    "torch.manual_seed(0)\n",
    "np.random.seed(0)"
   ]
  },
  {
   "cell_type": "code",
   "execution_count": 1,
   "metadata": {},
   "outputs": [],
   "source": [
    "#  CONFIGURATIONS - HYPER PARAMETERS\n",
    "################################################################\n",
    "batch_size = 10\n",
    "learning_rate = 0.001\n",
    "\n",
    "epochs = 20\n",
    "step_size = 50\n",
    "gamma = 0.5\n",
    "\n",
    "modes = 5\n",
    "width = 64\n",
    "\n",
    "weight_decay=1e-4"
   ]
  },
  {
   "attachments": {},
   "cell_type": "markdown",
   "metadata": {},
   "source": [
    "### Model Metrics\n",
    "We generated a set of basic image metrics which include RMSE (root-mean-square error), PSNR (peak signal-to-noise ratio) and SSIM (structural similiarity index). These metrics provide a complete overview of our reconstruction results:\n",
    "\n",
    " $RMSE = \\sqrt{MSE} =  \\sqrt{\\frac{1}{n}\\Sigma_{i=1}^{n}{\\Big(\\frac{\\text{predicted} - \\text{actual} }{\\sigma_i}\\Big)^2}}$ \n",
    " \n",
    " \n",
    " ${PSNR} = 10\\log_{10} \\frac{{MAX}^2_I}{MSE}$\n",
    "\n",
    "$ SSIM = \\frac{(2\\mu_x\\mu_y + C_1) + (2 \\sigma _{xy} + C_2)}{(\\mu_x^2 + \\mu_y^2+C_1) (\\sigma_x^2 + \\sigma_y^2+C_2)} $\n",
    "\n",
    "These are standard image quaity and image reconstruction metrics. "
   ]
  },
  {
   "cell_type": "code",
   "execution_count": 3,
   "metadata": {},
   "outputs": [],
   "source": [
    "# MODEL METRICS\n",
    "###################################\n",
    "# MODEL METRICS\n",
    "###################################\n",
    "def model_metrics(model,test_loader,ntrain):\n",
    "    rms_values, psnr_values, ssim_values, uqi_values = [], [], [], []\n",
    "\n",
    "    for test_num in range(ntest):\n",
    "        K = torch.unsqueeze(test_loader.dataset[test_num][0], 0).cuda()\n",
    "        model.eval()\n",
    "\n",
    "        predicted_np = np.reshape(model(K).detach().cpu().numpy(),(16,16))\n",
    "\n",
    "        truth = test_loader.dataset[test_num][1]\n",
    "        truth_np = np.reshape(truth.numpy(),(16,16))\n",
    "\n",
    "        #diff_image = predicted - truth_np\n",
    "        #np.sqrt(np.sum(diff_image**2)/256)\n",
    "\n",
    "        rms_values.append(rmse(predicted_np, truth_np))\n",
    "        psnr_values.append(psnr(truth_np, predicted_np, data_range=predicted_np.max() - predicted_np.min()))\n",
    "        ssim_values.append(ssim(truth_np, predicted_np, data_range=predicted_np.max() - predicted_np.min()))\n",
    "        uqi_values.append(uqi(predicted_np, truth_np))\n",
    "\n",
    "    model_rms = sum(rms_values)/ len(rms_values)\n",
    "    std_rms = np.std(np.array(rms_values))\n",
    "\n",
    "    model_psnr = sum(psnr_values)/ len(psnr_values)\n",
    "    std_psnr = np.std(np.array(psnr_values))\n",
    "\n",
    "    model_ssim = sum(ssim_values)/ len(ssim_values)\n",
    "    std_ssim = np.std(np.array(ssim_values))\n",
    "\n",
    "    model_uqi = sum(uqi_values)/ len(uqi_values)\n",
    "    std_uqi = np.std(np.array(uqi_values))\n",
    "\n",
    "\n",
    "    print(\"RMSE: \", round(model_rms,5), round(std_rms,5), sep=\"---\")\n",
    "    print(\"PSNR: \", round(model_psnr,5), round(std_psnr,5), sep=\"---\")\n",
    "    print(\"SSIM: \", round(model_ssim,5), round(std_ssim,5), sep=\"---\")\n",
    "    #print(\"UQI: \", model_uqi, std_uqi, sep=\"---\")\n",
    "\n",
    "\n",
    "    output = {\n",
    "    \"rms\": rms_values,\n",
    "    \"psnr\": psnr_values,\n",
    "    \"ssim\": ssim_values,\n",
    "    \"uqi\": uqi_values,\n",
    "    # average values\n",
    "    'model_rms': [round(model_rms,5),round(std_rms,5)],\n",
    "    'model_psnr': [round(model_psnr,5),round(std_psnr,5)],\n",
    "    'model_ssim': [round(model_ssim,5),round(std_ssim,5)]\n",
    "    }\n",
    "    return output "
   ]
  },
  {
   "attachments": {},
   "cell_type": "markdown",
   "metadata": {},
   "source": [
    "### Architectures and Training Algorithm"
   ]
  },
  {
   "cell_type": "code",
   "execution_count": 23,
   "metadata": {},
   "outputs": [],
   "source": [
    "# Multi-Layer Perceptron\n",
    "###################################\n",
    "\n",
    "class MLP(nn.Module):\n",
    "    def __init__(self):\n",
    "        super(MLP, self).__init__()\n",
    "       \n",
    "        self.fc0 = nn.Linear(64, 400)\n",
    "        self.fc1 = nn.Linear(400, 256)\n",
    "\n",
    "    def forward(self, x):       \n",
    "        x = self.fc0(x)\n",
    "        x = F.relu(x)\n",
    "\n",
    "        x = self.fc1(x)\n",
    "        x = F.sigmoid(x)\n",
    "        return x"
   ]
  },
  {
   "cell_type": "code",
   "execution_count": 5,
   "metadata": {},
   "outputs": [],
   "source": [
    "# Convoluational Neural Network\n",
    "###################################\n",
    "\n",
    "class CNN(nn.Module):\n",
    "    def __init__(self):\n",
    "        super(CNN, self).__init__()\n",
    "       \n",
    "        self.fc0 = nn.Linear(64, 256)\n",
    "\n",
    "        self.conv1 = nn.Conv2d(1, 128, kernel_size=5, stride=1, padding=2)\n",
    "        self.conv2 = nn.Conv2d(128, 1, kernel_size=1, stride=1, padding=0)\n",
    "        #self.conv3 = nn.Conv2d(32, 3, kernel_size=5, stride=1, padding=5//2),\n",
    "    def forward(self, x):\n",
    "       \n",
    "        x = self.fc0(x)\n",
    "        x = x.reshape(x.shape[0],1,16,16)\n",
    "\n",
    "        x = self.conv1(x)\n",
    "        x = F.relu(x)\n",
    "\n",
    "        x = self.conv2(x)        \n",
    "        x = F.sigmoid(x)\n",
    "        return x"
   ]
  },
  {
   "cell_type": "code",
   "execution_count": 6,
   "metadata": {},
   "outputs": [],
   "source": [
    "#   DEFINING THE TOP 2D FOURIER LAYER\n",
    "#####################################################################\n",
    "\n",
    "class SpectralConv2d(nn.Module):\n",
    "    def __init__(self, in_channels, out_channels, modes1, modes2):\n",
    "        super(SpectralConv2d, self).__init__()\n",
    "\n",
    "        \"\"\"\n",
    "        2D Fourier layer. It does FFT, linear transform, and Inverse FFT.    \n",
    "        \"\"\"\n",
    "\n",
    "        self.in_channels = in_channels\n",
    "        self.out_channels = out_channels\n",
    "        self.modes1 = modes1 #Number of Fourier modes to multiply, at most floor(N/2) + 1\n",
    "        self.modes2 = modes2\n",
    "\n",
    "        self.scale = (1 / (in_channels * out_channels))\n",
    "        self.weights1 = nn.Parameter(self.scale * torch.rand(in_channels, out_channels, self.modes1, self.modes2, dtype=torch.cfloat))\n",
    "        self.weights2 = nn.Parameter(self.scale * torch.rand(in_channels, out_channels, self.modes1, self.modes2, dtype=torch.cfloat))\n",
    "\n",
    "    # Complex multiplication\n",
    "    def compl_mul2d(self, input, weights):\n",
    "        # (batch, in_channel, x,y ), (in_channel, out_channel, x,y) -> (batch, out_channel, x,y)\n",
    "        #print('input',input.shape)\n",
    "        #print('weights',weights.shape)\n",
    "        #print(\"bixy,ioxy->boxy\")\n",
    "        R_out = torch.einsum(\"bixy,ioxy->boxy\", input, weights)\n",
    "        #print(R_out.shape)\n",
    "        return R_out\n",
    "\n",
    "    def forward(self, x):\n",
    "        batchsize = x.shape[0]\n",
    "        #Compute Fourier coeffcients up to factor of e^(- something constant)\n",
    "        x_ft = torch.fft.rfft2(x)\n",
    "\n",
    "        # Multiply relevant Fourier modes\n",
    "        out_ft = torch.zeros(batchsize, self.out_channels,  x.size(-2), x.size(-1)//2 + 1, dtype=torch.cfloat, device=x.device)\n",
    "        #print('what is out_ft', out_ft.shape)\n",
    "        out_ft[:, :, :self.modes1, :self.modes2] = \\\n",
    "            self.compl_mul2d(x_ft[:, :, :self.modes1, :self.modes2], self.weights1)\n",
    "        out_ft[:, :, -self.modes1:, :self.modes2] = \\\n",
    "            self.compl_mul2d(x_ft[:, :, -self.modes1:, :self.modes2], self.weights2)\n",
    "        #Return to physical space\n",
    "        x = torch.fft.irfft2(out_ft, s=(x.size(-2), x.size(-1)))\n",
    "        return x"
   ]
  },
  {
   "cell_type": "code",
   "execution_count": 7,
   "metadata": {},
   "outputs": [],
   "source": [
    "# FNO Architecture\n",
    "####################################### MODELS ###############################\n",
    "class FNO2d(nn.Module):\n",
    "    def __init__(self, modes1, modes2,  width):\n",
    "        super(FNO2d, self).__init__()\n",
    "\n",
    "        \"\"\"\n",
    "        The overall network. It contains 4 layers of the Fourier layer.\n",
    "        1. Lift the input to the desire channel dimension by self.fc0 .\n",
    "        2. 4 layers of the integral operators u' = (W + K)(u).\n",
    "            W defined by self.w; K defined by self.conv .\n",
    "        3. Project from the channel space to the output space by self.fc1 and self.fc2 .\n",
    "        \n",
    "        input: the solution of the coefficient function and locations (a(x, y), x, y)\n",
    "        input shape: (batchsize, x=s, y=s, c=3)\n",
    "        output: the solution \n",
    "        output shape: (batchsize, x=s, y=s, c=1)\n",
    "        \"\"\"\n",
    "\n",
    "        self.modes1 = modes1\n",
    "        self.modes2 = modes2\n",
    "        self.width = width\n",
    "        self.padding = 16 # pad the domain if input is non-periodic\n",
    "        self.fc0 = nn.Linear(3, self.width) # input channel is 3: (a(x, y), x, y)\n",
    "\n",
    "        self.conv0 = SpectralConv2d(self.width, self.width, self.modes1, self.modes2)\n",
    "        self.conv1 = SpectralConv2d(self.width, self.width, self.modes1, self.modes2)\n",
    "        self.conv2 = SpectralConv2d(self.width, self.width, self.modes1, self.modes2)\n",
    "        self.conv3 = SpectralConv2d(self.width, self.width, self.modes1, self.modes2)\n",
    "        self.w0 = nn.Conv2d(self.width, self.width, 1)\n",
    "        self.w1 = nn.Conv2d(self.width, self.width, 1)\n",
    "        self.w2 = nn.Conv2d(self.width, self.width, 1)\n",
    "        self.w3 = nn.Conv2d(self.width, self.width, 1)\n",
    "\n",
    "        self.fc1 = nn.Linear(self.width, 128)\n",
    "        self.fc2 = nn.Linear(128, 4)\n",
    "\n",
    "    def forward(self, x):\n",
    "        grid = self.get_grid(x.shape, x.device)\n",
    "        #print('x grid input shape', x.shape, 'grid input shape', grid.shape)\n",
    "        x = torch.cat((x, grid), dim=-1)\n",
    "        x = self.fc0(x)\n",
    "        x = x.permute(0, 3, 1, 2)\n",
    "        #x = F.pad(x, [0,self.padding, 0,self.padding])\n",
    "\n",
    "        x1 = self.conv0(x)\n",
    "        x2 = self.w0(x)\n",
    "        x = x1 + x2\n",
    "        x = F.gelu(x)\n",
    "\n",
    "        x1 = self.conv1(x)\n",
    "        x2 = self.w1(x)\n",
    "        x = x1 + x2\n",
    "        x = F.gelu(x)\n",
    "\n",
    "        x1 = self.conv2(x)\n",
    "        x2 = self.w2(x)\n",
    "        x = x1 + x2\n",
    "        x = F.gelu(x)\n",
    "\n",
    "        x1 = self.conv3(x)\n",
    "        x2 = self.w3(x)\n",
    "        x = x1 + x2\n",
    "\n",
    "        #x = x[..., :-self.padding, :-self.padding]\n",
    "        x = x.permute(0, 2, 3, 1)\n",
    "        x = self.fc1(x)\n",
    "        x = F.gelu(x)\n",
    "        x = self.fc2(x)\n",
    "        return x\n",
    "    \n",
    "    def get_grid(self, shape, device):\n",
    "        batchsize, size_x, size_y = shape[0], shape[1], shape[2]\n",
    "        gridx = torch.tensor(np.linspace(0, 1, size_x), dtype=torch.float)\n",
    "        gridx = gridx.reshape(1, size_x, 1, 1).repeat([batchsize, 1, size_y, 1])\n",
    "        gridy = torch.tensor(np.linspace(0, 1, size_y), dtype=torch.float)\n",
    "        gridy = gridy.reshape(1, 1, size_y, 1).repeat([batchsize, size_x, 1, 1])\n",
    "        return torch.cat((gridx, gridy), dim=-1).to(device)\n"
   ]
  },
  {
   "cell_type": "code",
   "execution_count": 8,
   "metadata": {},
   "outputs": [],
   "source": [
    "# TRAINING AND EVALUATION\n",
    "################################################################\n",
    "# TRAINING AND EVALUATION\n",
    "################################################################\n",
    "\n",
    "\n",
    "def train_model(model, epochs, batch_size, learning_rate, weight_decay, step_size, gamma):\n",
    "    optimizer = Adam(model.parameters(), lr=learning_rate, weight_decay=weight_decay)\n",
    "    scheduler = torch.optim.lr_scheduler.StepLR(optimizer, step_size=step_size, gamma=gamma)\n",
    "    train_losses, test_losses, epoch_time = [], [], []\n",
    "\n",
    "    myloss = LpLoss(size_average=False)\n",
    "    for ep in range(epochs):\n",
    "        model.train()\n",
    "        t1 = default_timer()\n",
    "        train_mse = 0\n",
    "        train_l2 = 0\n",
    "        total_time = 0\n",
    "        for x, y in train_loader:\n",
    "            x, y = x.cuda(), y.cuda()\n",
    "\n",
    "            optimizer.zero_grad()\n",
    "            #print('in: ',x.shape)\n",
    "            out = model(x)\n",
    "            #print('out: ',out.shape)\n",
    "\n",
    "            mse = F.mse_loss(out.view(batch_size, -1), y.view(batch_size, -1), reduction='mean')\n",
    "            l2 = myloss(out.view(batch_size, -1), y.view(batch_size, -1))\n",
    "            l2.backward() # use the l2 relative loss\n",
    "\n",
    "            optimizer.step()\n",
    "            train_mse += mse.item()\n",
    "            train_l2 += l2.item()\n",
    "\n",
    "        scheduler.step()\n",
    "        model.eval()\n",
    "        test_l2 = 0.0\n",
    "        with torch.no_grad():\n",
    "            for x, y in test_loader:\n",
    "                x, y = x.cuda(), y.cuda()\n",
    "\n",
    "                out = model(x)\n",
    "                test_l2 += myloss(out.view(batch_size, -1), y.view(batch_size, -1)).item()\n",
    "\n",
    "        #train_mse /= len(train_loader)\n",
    "        train_l2 /= ntrain\n",
    "        train_losses.append(train_l2)\n",
    "        test_l2 /= ntest\n",
    "        test_losses.append(test_l2)\n",
    "\n",
    "\n",
    "        t2 = default_timer()\n",
    "        epoch_time.append(t2 - t1)\n",
    "\n",
    "        print(ep, t2 - t1, train_l2, test_l2)\n",
    "    total_time = sum(epoch_time)\n",
    "    print(\"TOTAL TIME: \", round(total_time,2), sep=\"---\")\n",
    "\n",
    "    output = {\n",
    "    \"train_losses\": train_losses,\n",
    "    \"test_losses\": test_losses,\n",
    "    \"epoch_time\": epoch_time,\n",
    "    \"training_time\": round(total_time,2),\n",
    "    \"model\": model\n",
    "    }\n",
    "    return output "
   ]
  },
  {
   "attachments": {},
   "cell_type": "markdown",
   "metadata": {},
   "source": [
    "### Loading Raw Data\n",
    "\n",
    "The data is generated by a 3 step process:\n",
    "* Random elliptical 16 by 16 images are created\n",
    "* These images are mapped into a circlular domain. (This is our solution space)\n",
    "* The forward problem is solved using FEM and only the boundary values are kept. (This is our measurement space) \n",
    "\n",
    "\n",
    "Our task is to reconstruct the solution space from our set of boundary values that defines our measurement space."
   ]
  },
  {
   "cell_type": "code",
   "execution_count": 9,
   "metadata": {},
   "outputs": [],
   "source": [
    "raw_data = scipy.io.loadmat('./datasets/complete_data')\n",
    "\n",
    "sol = np.asarray(raw_data['solution_data'])\n",
    "mes = np.asarray(raw_data['measurement_data'])\n",
    "\n",
    "\n",
    "def convert_data(data_x, data_y):\n",
    "    data_X = torch.from_numpy(data_x).float()\n",
    "    data_Y = torch.from_numpy(data_y).float()\n",
    "    return data_X, data_Y"
   ]
  },
  {
   "cell_type": "code",
   "execution_count": 10,
   "metadata": {},
   "outputs": [
    {
     "data": {
      "text/plain": [
       "<matplotlib.image.AxesImage at 0x2082b30eb00>"
      ]
     },
     "execution_count": 10,
     "metadata": {},
     "output_type": "execute_result"
    },
    {
     "data": {
      "image/png": "[encoded data removed]",
      "text/plain": [
       "<Figure size 432x288 with 2 Axes>"
      ]
     },
     "metadata": {
      "needs_background": "light"
     },
     "output_type": "display_data"
    }
   ],
   "source": [
    "test_num = 423\n",
    "\n",
    "f, axarr = plt.subplots(1,2)\n",
    "axarr[0].title.set_text('Measurement Data')\n",
    "axarr[0].imshow(np.reshape(mes[test_num],(8,8)))\n",
    "axarr[1].title.set_text('Ground Truth')\n",
    "axarr[1].imshow(np.reshape(sol[test_num],(16,16)))"
   ]
  },
  {
   "attachments": {},
   "cell_type": "markdown",
   "metadata": {},
   "source": [
    "# Investigating Each Architectures"
   ]
  },
  {
   "attachments": {},
   "cell_type": "markdown",
   "metadata": {},
   "source": [
    "### FNO : Data Loading, Training and Results\n",
    "\n",
    "<img src= https://zongyi-li.github.io/neural-operator/img/fourier_full_arch5.png width=\"800\">\n"
   ]
  },
  {
   "cell_type": "code",
   "execution_count": 11,
   "metadata": {},
   "outputs": [
    {
     "name": "stdout",
     "output_type": "stream",
     "text": [
      "torch.Size([8000, 8, 8, 1]) torch.Size([8000, 16, 16, 1])\n"
     ]
    }
   ],
   "source": [
    "# DATA LOADING\n",
    "############################## DATA LOADING ########################################\n",
    "\n",
    "sol_temp = np.expand_dims(sol,axis = 1 )\n",
    "#sol_temp = np.sqeeze(sol_temp)\n",
    "mes_temp = np.transpose(np.expand_dims(mes,axis = 1 ),(0,2,1))\n",
    "\n",
    "# dimensions of solution space\n",
    "y_dim1 = 16\n",
    "y_dim2 = 16\n",
    "\n",
    "# dimensions of measurement space\n",
    "x_dim2 = 8     # no of detectors\n",
    "x_dim1 = int(mes.shape[1]/x_dim2)\n",
    "\n",
    "def convert_data(data_x, data_y):\n",
    "    data_X = torch.from_numpy(data_x).float()\n",
    "    data_Y = torch.from_numpy(data_y).float()\n",
    "    return data_X, data_Y\n",
    "\n",
    "# we are solving the inverse problem, so going from measurements, to solutions\n",
    "X, y = convert_data(mes_temp, sol_temp)\n",
    "X_train, X_test, y_train, y_test = train_test_split(X, y, test_size=0.2, random_state=42)\n",
    "\n",
    "y_train = y_train.squeeze()\n",
    "y_test = y_test.squeeze()\n",
    "\n",
    "y_test = y_test.reshape(y_test.shape[0],y_dim1,y_dim2,1)\n",
    "y_train = y_train.reshape(y_train.shape[0],y_dim1,y_dim2,1)\n",
    "\n",
    "X_test = X_test.reshape(X_test.shape[0], x_dim1,x_dim2,1)\n",
    "X_train = X_train.reshape(X_train.shape[0], x_dim1,x_dim2,1)\n",
    "\n",
    "train_dataset = TensorDataset( X_train, y_train )\n",
    "test_dataset = TensorDataset( X_test, y_test )\n",
    "\n",
    "train_loader = DataLoader(train_dataset, shuffle=True, batch_size=batch_size)\n",
    "test_loader = torch.utils.data.DataLoader(test_dataset, batch_size=batch_size, shuffle=False)\n",
    "\n",
    "ntrain = X_train.shape[0]\n",
    "ntest = X_test.shape[0]\n",
    "\n",
    "print(X_train.shape, y_train.shape)\n",
    "\n",
    "fno_loader = test_loader"
   ]
  },
  {
   "cell_type": "code",
   "execution_count": 12,
   "metadata": {},
   "outputs": [
    {
     "name": "stdout",
     "output_type": "stream",
     "text": [
      "1664132\n",
      "0 17.20417179982178 0.1592705829963088 0.11922595232725143\n",
      "1 12.73366990010254 0.11709969457983971 0.13600723749399185\n",
      "2 12.637784100137651 0.11155149962008 0.11118880397081375\n",
      "3 12.626322399824858 0.10566176649183034 0.10275854608416557\n",
      "4 12.751352499937639 0.10452664053440094 0.10105048424005508\n",
      "5 12.853591600200161 0.10211546853929758 0.09646889507770538\n",
      "6 12.63464399985969 0.09864862497895956 0.1006101821064949\n",
      "7 13.101237999973819 0.09722524707764388 0.0986832399070263\n",
      "8 12.426132700173184 0.09459888093918561 0.09748269927501678\n",
      "9 12.185132100014016 0.0928398402929306 0.09350768527388573\n",
      "10 11.397312700049952 0.0917500336393714 0.08933595004677773\n",
      "11 11.484758199891075 0.08947689986228943 0.08999314484000207\n",
      "12 11.534499199828133 0.08808314855396747 0.08751248297095299\n",
      "13 11.458743199938908 0.08682271344959736 0.08893716967105865\n",
      "14 11.960575700039044 0.08577762841433287 0.08577898299694062\n",
      "15 11.472803700016811 0.08421389795839787 0.08391909995675087\n",
      "16 11.865210900083184 0.08343701200187206 0.08482868269085884\n",
      "17 11.967404899885878 0.08249352234601974 0.08381159517168998\n",
      "18 11.623215799918398 0.08216884656995535 0.08291522297263146\n",
      "19 11.411862599896267 0.08117741338908672 0.08191082701086998\n",
      "TOTAL TIME: ---247.33\n",
      "RMSE: ---0.00222---0.00104\n",
      "PSNR: ---27.94514---2.91786\n",
      "SSIM: ---0.92098---0.02336\n"
     ]
    },
    {
     "data": {
      "text/plain": [
       "<matplotlib.colorbar.Colorbar at 0x2082d8272e0>"
      ]
     },
     "execution_count": 12,
     "metadata": {},
     "output_type": "execute_result"
    },
    {
     "data": {
      "image/png": "[encoded data removed]",
      "text/plain": [
       "<Figure size 432x288 with 2 Axes>"
      ]
     },
     "metadata": {
      "needs_background": "light"
     },
     "output_type": "display_data"
    }
   ],
   "source": [
    "# FNO RESULTS\n",
    "############################################################################\n",
    "\n",
    "model = FNO2d(modes, modes, width).cuda()\n",
    "print(count_params(model))\n",
    "out = train_model(model, epochs, batch_size, learning_rate, weight_decay, step_size, gamma)\n",
    "fno_out = out\n",
    "\n",
    "fno_model = out.get(\"model\")\n",
    "fno_metrics = model_metrics(fno_model,test_loader,ntrain)\n",
    "\n",
    "# TEST PREDICTIONS\n",
    "K = torch.unsqueeze(test_loader.dataset[test_num][0], 0).cuda()\n",
    "fno_model.eval()\n",
    "predicted = np.reshape(fno_model(K).detach().cpu().numpy(),(16,16))\n",
    "plt.imshow(predicted)\n",
    "plt.colorbar()"
   ]
  },
  {
   "attachments": {},
   "cell_type": "markdown",
   "metadata": {},
   "source": [
    "### MLP : Data Loading, Training and Results\n",
    "\n",
    "<img src= https://images.deepai.org/glossary-terms/49157de013394ab7a36022759a55b6aa/multipercep.jpg width=\"600\">\n"
   ]
  },
  {
   "cell_type": "code",
   "execution_count": 24,
   "metadata": {},
   "outputs": [
    {
     "name": "stdout",
     "output_type": "stream",
     "text": [
      "training: measurement torch.Size([8000, 64]) solution torch.Size([8000, 256])\n",
      "test: measurement torch.Size([2000, 64]) solution torch.Size([2000, 256])\n"
     ]
    }
   ],
   "source": [
    "# DATA LOADING\n",
    "############################## DATA LOADING ########################################\n",
    "X, y = convert_data(mes, sol)\n",
    "X_train, X_test, y_train, y_test = train_test_split(X, y, test_size=0.2, random_state=42)\n",
    "\n",
    "\n",
    "train_dataset = TensorDataset( X_train, y_train )\n",
    "test_dataset = TensorDataset( X_test, y_test )\n",
    "\n",
    "train_loader = DataLoader(train_dataset, shuffle=True, batch_size=batch_size)\n",
    "test_loader = torch.utils.data.DataLoader(test_dataset, batch_size=batch_size, shuffle=False)\n",
    "\n",
    "ntrain = X_train.shape[0]\n",
    "ntest = X_test.shape[0]\n",
    "\n",
    "print('training: measurement', X_train.shape, 'solution', y_train.shape)\n",
    "print('test: measurement', X_test.shape, 'solution', y_test.shape)\n",
    "\n",
    "mlp_loader = test_loader"
   ]
  },
  {
   "cell_type": "code",
   "execution_count": 25,
   "metadata": {},
   "outputs": [
    {
     "name": "stdout",
     "output_type": "stream",
     "text": [
      "128656\n",
      "0 1.986377000110224 0.8070970054268837 0.39329005897045133\n",
      "1 1.810271699912846 0.24731577548384667 0.18469045442342757\n",
      "2 1.812677700072527 0.1813589796870947 0.17056835722923278\n",
      "3 1.8013470000587404 0.16187449057400227 0.16871476370096206\n",
      "4 1.8306665001437068 0.1529636677056551 0.14191934376955032\n",
      "5 1.832365999929607 0.1461531184911728 0.14370735955238342\n",
      "6 1.7979152000043541 0.14287474816292525 0.14421687030792235\n",
      "7 1.8016540000680834 0.13976393610984086 0.13156856656074523\n",
      "8 1.7922871999908239 0.13887203440070153 0.13600545275211334\n",
      "9 1.8100824998691678 0.13570415204018355 0.1293416151702404\n",
      "10 1.8370844998862594 0.13454272678494453 0.14831687378883363\n",
      "11 1.84935069992207 0.13550071630626917 0.13856675738096239\n",
      "12 1.809207099955529 0.13304225544631482 0.13774815583229064\n",
      "13 1.806006700033322 0.13380468736588955 0.1291870066523552\n",
      "14 1.8059318999294192 0.1312412896975875 0.13820464450120926\n",
      "15 1.7736682000104338 0.1320210026204586 0.12105355405807496\n",
      "16 1.8008991999085993 0.1293725712299347 0.1309880759716034\n",
      "17 1.7852001001592726 0.12985362610965967 0.1434694841504097\n",
      "18 1.8692109000403434 0.12922718899697067 0.1229673792719841\n",
      "19 1.8024353000801057 0.1281027397736907 0.12625625571608542\n",
      "TOTAL TIME: ---36.41\n",
      "RMSE: ---0.0034---0.00144\n",
      "PSNR: ---23.67901---2.37488\n",
      "SSIM: ---0.82297---0.04106\n"
     ]
    },
    {
     "data": {
      "text/plain": [
       "<matplotlib.colorbar.Colorbar at 0x2082d8948e0>"
      ]
     },
     "execution_count": 25,
     "metadata": {},
     "output_type": "execute_result"
    },
    {
     "data": {
      "image/png": "[encoded data removed]",
      "text/plain": [
       "<Figure size 432x288 with 2 Axes>"
      ]
     },
     "metadata": {
      "needs_background": "light"
     },
     "output_type": "display_data"
    }
   ],
   "source": [
    "model = MLP().cuda()\n",
    "print(count_params(model))\n",
    "out = train_model(model, epochs, batch_size, learning_rate, weight_decay, step_size, gamma)\n",
    "mlp_out = out\n",
    "\n",
    "mlp_model = out.get(\"model\")\n",
    "mlp_metrics = model_metrics(mlp_model,test_loader,ntrain)\n",
    "\n",
    "# TEST NETWORK RESULTS\n",
    "############################################################################\n",
    "K = torch.unsqueeze(test_loader.dataset[test_num][0], 0).cuda()\n",
    "mlp_model.eval()\n",
    "predicted = np.reshape(mlp_model(K).detach().cpu().numpy(),(16,16))\n",
    "plt.imshow(predicted)\n",
    "plt.colorbar()"
   ]
  },
  {
   "attachments": {},
   "cell_type": "markdown",
   "metadata": {},
   "source": [
    "### CNN DATA AND RESULTS\n",
    "\n",
    "<img src= https://miro.medium.com/max/1400/1*hYN6b13CKaTN1jnafkq5KQ.jpeg width=\"800\">"
   ]
  },
  {
   "cell_type": "code",
   "execution_count": 16,
   "metadata": {},
   "outputs": [
    {
     "name": "stdout",
     "output_type": "stream",
     "text": [
      "training data: measurements torch.Size([8000, 1, 64]) solution torch.Size([8000, 1, 16, 16])\n",
      "training data: measurements torch.Size([2000, 1, 64]) solution torch.Size([2000, 1, 16, 16])\n"
     ]
    }
   ],
   "source": [
    "# we are solving the inverse problem, so going from measurements, to solutions\n",
    "\n",
    "X_dim = X_train.shape[1]\n",
    "y_dim = y_train.shape[1]\n",
    "\n",
    "X_train = X_train.reshape(ntrain,1,X_dim)\n",
    "X_test = X_test.reshape(ntest,1,X_dim)\n",
    "\n",
    "y_train = y_train.reshape(ntrain,1,16,16)\n",
    "y_test = y_test.reshape(ntest,1,16,16)\n",
    "\n",
    "train_dataset = TensorDataset( X_train, y_train )\n",
    "test_dataset = TensorDataset( X_test, y_test )\n",
    "\n",
    "train_loader = DataLoader(train_dataset, shuffle=True, batch_size=batch_size)\n",
    "test_loader = torch.utils.data.DataLoader(test_dataset, batch_size=batch_size, shuffle=False)\n",
    "\n",
    "print('training data: measurements', X_train.shape, 'solution', y_train.shape)\n",
    "print('training data: measurements', X_test.shape, 'solution', y_test.shape)\n",
    "\n",
    "cnn_loader = test_loader"
   ]
  },
  {
   "cell_type": "code",
   "execution_count": 21,
   "metadata": {},
   "outputs": [
    {
     "name": "stdout",
     "output_type": "stream",
     "text": [
      "20097\n"
     ]
    },
    {
     "name": "stderr",
     "output_type": "stream",
     "text": [
      "c:\\Users\\azhir\\anaconda3\\envs\\gundam\\lib\\site-packages\\torch\\nn\\functional.py:1944: UserWarning: nn.functional.sigmoid is deprecated. Use torch.sigmoid instead.\n",
      "  warnings.warn(\"nn.functional.sigmoid is deprecated. Use torch.sigmoid instead.\")\n"
     ]
    },
    {
     "name": "stdout",
     "output_type": "stream",
     "text": [
      "0 2.9627091998700052 1.035846793115139 0.33509510111808777\n",
      "1 2.6685144000221044 0.2596756193190813 0.25183445715904235\n",
      "2 2.665034400066361 0.20780407597124576 0.21473931616544722\n",
      "3 2.662552800029516 0.19540229423344135 0.18310280853509903\n",
      "4 2.7697596999350935 0.18049328964948655 0.2266120045185089\n",
      "5 2.7844209999311715 0.17823737663030625 0.16220143711566926\n",
      "6 2.841749900020659 0.16613220041990281 0.15972183960676192\n",
      "7 2.5949973999522626 0.16129693859815597 0.15172731399536132\n",
      "8 2.7763354000635445 0.15572086136043073 0.15058891201019287\n",
      "9 2.7495790999382734 0.15251257929205894 0.15409102934598923\n",
      "10 2.6610249001532793 0.14820320639014245 0.1429876549243927\n",
      "11 2.6246634998824447 0.1452964989989996 0.14374864304065704\n",
      "12 2.721792400116101 0.14303613174706697 0.1353724120259285\n",
      "13 2.805641599930823 0.14292509864270686 0.13579631766676903\n",
      "14 2.757719799876213 0.1403753473982215 0.13859658521413804\n",
      "15 2.630994599778205 0.1386580484956503 0.13182169273495675\n",
      "16 2.7740274001844227 0.13863298263400792 0.14069096076488494\n",
      "17 2.739262100076303 0.13711026421934366 0.13938099819421768\n",
      "18 2.647837899858132 0.13691012935340405 0.13230384275317192\n",
      "19 2.6597202999982983 0.13508297640830277 0.1345545290708542\n",
      "TOTAL TIME: ---54.5\n",
      "RMSE: ---0.00361---0.00146\n",
      "PSNR: ---23.09314---2.25803\n",
      "SSIM: ---0.80454---0.04876\n"
     ]
    },
    {
     "data": {
      "text/plain": [
       "<matplotlib.colorbar.Colorbar at 0x2082db76bf0>"
      ]
     },
     "execution_count": 21,
     "metadata": {},
     "output_type": "execute_result"
    },
    {
     "data": {
      "image/png": "[encoded data removed]",
      "text/plain": [
       "<Figure size 432x288 with 2 Axes>"
      ]
     },
     "metadata": {
      "needs_background": "light"
     },
     "output_type": "display_data"
    }
   ],
   "source": [
    "# SIGMA - TEST NETWORK\n",
    "############################################################################\n",
    "\n",
    "model = CNN().cuda()\n",
    "print(count_params(model))\n",
    "out = train_model(model, epochs, batch_size, learning_rate, weight_decay, step_size, gamma)\n",
    "cnn_out = out\n",
    "\n",
    "cnn_model = out.get(\"model\")\n",
    "cnn_metrics = model_metrics(cnn_model,test_loader,ntrain)\n",
    "\n",
    "# TEST NETWORK RESULTS\n",
    "############################################################################\n",
    "K = torch.unsqueeze(test_loader.dataset[test_num][0], 0).cuda()\n",
    "cnn_model.eval()\n",
    "predicted = np.reshape(cnn_model(K).detach().cpu().numpy(),(16,16))\n",
    "plt.imshow(predicted)\n",
    "plt.colorbar()"
   ]
  },
  {
   "attachments": {},
   "cell_type": "markdown",
   "metadata": {},
   "source": [
    "### Direct Comparison Between Models"
   ]
  },
  {
   "cell_type": "code",
   "execution_count": 26,
   "metadata": {},
   "outputs": [
    {
     "data": {
      "text/plain": [
       "<matplotlib.image.AxesImage at 0x2082d987dc0>"
      ]
     },
     "execution_count": 26,
     "metadata": {},
     "output_type": "execute_result"
    },
    {
     "data": {
      "image/png": "[encoded data removed]",
      "text/plain": [
       "<Figure size 1080x1080 with 4 Axes>"
      ]
     },
     "metadata": {
      "needs_background": "light"
     },
     "output_type": "display_data"
    }
   ],
   "source": [
    "test_num = 423\n",
    "\n",
    "### GROUND TRUTH, FNO, MLP, CNN\n",
    "\n",
    "\n",
    "f, axarr = plt.subplots(1,4, figsize=(15, 15))\n",
    "\n",
    "truth_out = test_loader.dataset[test_num][1]\n",
    "axarr[0].title.set_text('Ground Truth')\n",
    "axarr[0].imshow(np.reshape(truth_out.numpy(),(16,16)), vmin=0, vmax=0.05)\n",
    "\n",
    "K = torch.unsqueeze(fno_loader.dataset[test_num][0], 0).cuda()\n",
    "predicted = np.reshape(fno_model(K).detach().cpu().numpy(),(16,16))\n",
    "axarr[1].title.set_text('FNO Results')\n",
    "axarr[1].imshow(predicted, vmin=0, vmax=0.05)\n",
    "\n",
    "K = torch.unsqueeze(cnn_loader.dataset[test_num][0], 0).cuda()\n",
    "predicted = np.reshape(cnn_model(K).detach().cpu().numpy(),(16,16))\n",
    "axarr[2].title.set_text('CNN Results')\n",
    "axarr[2].imshow(predicted, vmin=0, vmax=0.05)\n",
    "\n",
    "\n",
    "K = torch.unsqueeze(mlp_loader.dataset[test_num][0], 0).cuda()\n",
    "predicted = np.reshape(mlp_model(K).detach().cpu().numpy(),(16,16))\n",
    "axarr[3].title.set_text('MLP Results')\n",
    "axarr[3].imshow(predicted, vmin=0, vmax=0.05)"
   ]
  },
  {
   "cell_type": "code",
   "execution_count": 30,
   "metadata": {},
   "outputs": [
    {
     "name": "stdout",
     "output_type": "stream",
     "text": [
      "Architecture      Time (s)  RMSE (mean,std)     PSNR (mean,std)      SSIM (mean,std)\n",
      "--------------  ----------  ------------------  -------------------  ------------------\n",
      "FNO                 247.33  [0.00222, 0.00104]  [27.94514, 2.91786]  [0.92098, 0.02336]\n",
      "CNN                  54.5   [0.00361, 0.00146]  [23.09314, 2.25803]  [0.80454, 0.04876]\n",
      "MLP                  36.41  [0.0034, 0.00144]   [23.67901, 2.37488]  [0.82297, 0.04106]\n"
     ]
    }
   ],
   "source": [
    "table = [['Architecture', 'Time (s)', 'RMSE (mean,std)', 'PSNR (mean,std)', 'SSIM (mean,std)', 'Training Time (s)'],\n",
    "         ['FNO', fno_out.get(\"training_time\"), fno_metrics.get('model_rms'), fno_metrics.get('model_psnr'), fno_metrics.get('model_ssim')], \n",
    "         ['CNN', cnn_out.get(\"training_time\"), cnn_metrics.get('model_rms'), cnn_metrics.get('model_psnr'), cnn_metrics.get('model_ssim')], \n",
    "         ['MLP', mlp_out.get(\"training_time\"), mlp_metrics.get('model_rms'), mlp_metrics.get('model_psnr'), mlp_metrics.get('model_ssim')]]\n",
    "\n",
    "\n",
    "print(tabulate(table, headers='firstrow'))"
   ]
  },
  {
   "cell_type": "code",
   "execution_count": 59,
   "metadata": {},
   "outputs": [
    {
     "data": {
      "text/plain": [
       "<matplotlib.legend.Legend at 0x209a6583220>"
      ]
     },
     "execution_count": 59,
     "metadata": {},
     "output_type": "execute_result"
    },
    {
     "data": {
      "image/png": "[encoded data removed]",
      "text/plain": [
       "<Figure size 1080x360 with 2 Axes>"
      ]
     },
     "metadata": {
      "needs_background": "light"
     },
     "output_type": "display_data"
    }
   ],
   "source": [
    "f, axarr = plt.subplots(1,2, figsize=(15, 5))\n",
    "\n",
    "#FNO LOSSES\n",
    "axarr[0].title.set_text('Train Losses')\n",
    "axarr[0].plot(fno_out.get(\"train_losses\"), label='FNO')\n",
    "axarr[0].plot(cnn_out.get(\"train_losses\"), label='CNN')\n",
    "axarr[0].plot(mlp_out.get(\"train_losses\"), label='MLP')\n",
    "axarr[0].legend()\n",
    "#axarr[0,0].set_ylim([0.08, 0.16])\n",
    "\n",
    "\n",
    "axarr[1].title.set_text('Test Losses')\n",
    "axarr[1].plot(fno_out.get(\"test_losses\"), label='FNO')\n",
    "axarr[1].plot(cnn_out.get(\"test_losses\"), label='CNN')\n",
    "axarr[1].plot(mlp_out.get(\"test_losses\"), label='MLP')\n",
    "axarr[1].legend()\n",
    "#axarr[0,1].set_ylim([0.08, 0.16])\n"
   ]
  }
 ],
 "metadata": {
  "kernelspec": {
   "display_name": "Python 3.10.4 ('gundam')",
   "language": "python",
   "name": "python3"
  },
  "language_info": {
   "codemirror_mode": {
    "name": "ipython",
    "version": 3
   },
   "file_extension": ".py",
   "mimetype": "text/x-python",
   "name": "python",
   "nbconvert_exporter": "python",
   "pygments_lexer": "ipython3",
   "version": "3.9.6"
  },
  "orig_nbformat": 4,
  "vscode": {
   "interpreter": {
    "hash": "cddc3d62f9a7e02ecb46a81ab11648d63c0573e5e13f25e036352996103f8463"
   }
  }
 },
 "nbformat": 4,
 "nbformat_minor": 2
}
